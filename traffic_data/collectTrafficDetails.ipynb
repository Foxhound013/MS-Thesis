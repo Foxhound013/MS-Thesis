{
 "cells": [
  {
   "cell_type": "code",
   "execution_count": 1,
   "metadata": {},
   "outputs": [],
   "source": [
    "import pandas as pd\n",
    "import pymssql\n",
    "from secrets import *"
   ]
  },
  {
   "cell_type": "code",
   "execution_count": 2,
   "metadata": {},
   "outputs": [],
   "source": [
    "def getDB(server, database, user, password):\n",
    "    conn = pymssql.connect(server=server,\n",
    "                          database=database,\n",
    "                          user=user,\n",
    "                          password=password,\n",
    "                          login_timeout=300,\n",
    "                          port=1433)\n",
    "    cursor = conn.cursor()\n",
    "    return cursor"
   ]
  },
  {
   "cell_type": "code",
   "execution_count": 23,
   "metadata": {},
   "outputs": [],
   "source": [
    "def get_sql():\n",
    "    cursor = getDB(server, db, uid, pwd)\n",
    "    query = \"\"\"\n",
    "    DECLARE @versionDate date\n",
    "    SET @versionDate = '2018-12-03'\n",
    "\n",
    "    SELECT TOP (10)\n",
    "        xdInfo.version,\n",
    "        arterials.xdid,\n",
    "        xdSpeed.tstamp,\n",
    "        xdSpeed.speed,\n",
    "        arterials.roadname,\n",
    "        xdInfo.RoadName as roadname2,\n",
    "        xdInfo.RoadNumber,\n",
    "        arterials.direction,\n",
    "        xdInfo.Bearing,\n",
    "        xdInfo.County,\n",
    "        xdInfo.District,\n",
    "        xdInfo.StartLat,\n",
    "        xdInfo.StartLong,\n",
    "        xdInfo.Miles\n",
    "    FROM udf_xdpos_details(@versionDate) arterials\n",
    "\n",
    "    INNER JOIN inrix_xd.dbo.__xd xdInfo \n",
    "        ON xdInfo.XDSegID = arterials.xdid\n",
    "\n",
    "    INNER JOIN inrix_xd.dbo.xdspeeds xdSpeed\n",
    "        ON xdSpeed.xdid = arterials.xdid\n",
    "\n",
    "    WHERE xdInfo.version = @versionDate and\n",
    "        xdSpeed.tstamp > '2019-01-01T00:00:00' and xdSpeed.tstamp <= '2019-04-16T00:00:00'\n",
    "        and xdSpeed.score = 30\n",
    "    \"\"\"\n",
    "    cursor.execute(query)\n",
    "    \n",
    "    # Get the data in batches\n",
    "    count = 0 # 0 = create file and write first batch, 1 = append to existing file.\n",
    "    while True:\n",
    "        # Read in data\n",
    "        df = pd.DataFrame(cursor.fetchmany(3))\n",
    "        \n",
    "        # Check to see if there's any data, end if not\n",
    "        if len(df) == 0:\n",
    "            break\n",
    "        else:\n",
    "            if count == 0:\n",
    "                df.to_csv('../scratch/out.csv', header=True, mode='w')\n",
    "                count += 1\n",
    "            else:\n",
    "                df.to_csv('../scratch/out.csv', header=False, mode='a')\n",
    "    #df = pd.DataFrame(cursor.fetchall())\n",
    "    #return df    "
   ]
  },
  {
   "cell_type": "code",
   "execution_count": 24,
   "metadata": {},
   "outputs": [],
   "source": [
    "get_sql()"
   ]
  },
  {
   "cell_type": "code",
   "execution_count": null,
   "metadata": {},
   "outputs": [],
   "source": []
  },
  {
   "cell_type": "code",
   "execution_count": null,
   "metadata": {},
   "outputs": [],
   "source": []
  },
  {
   "cell_type": "code",
   "execution_count": null,
   "metadata": {},
   "outputs": [],
   "source": []
  }
 ],
 "metadata": {
  "kernelspec": {
   "display_name": "Python 3",
   "language": "python",
   "name": "python3"
  },
  "language_info": {
   "codemirror_mode": {
    "name": "ipython",
    "version": 3
   },
   "file_extension": ".py",
   "mimetype": "text/x-python",
   "name": "python",
   "nbconvert_exporter": "python",
   "pygments_lexer": "ipython3",
   "version": "3.7.1"
  }
 },
 "nbformat": 4,
 "nbformat_minor": 2
}
